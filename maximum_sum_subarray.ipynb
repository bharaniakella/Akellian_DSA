{
  "nbformat": 4,
  "nbformat_minor": 0,
  "metadata": {
    "colab": {
      "provenance": [],
      "authorship_tag": "ABX9TyMI8UOlf7eVxKI3PrwqPpAz",
      "include_colab_link": true
    },
    "kernelspec": {
      "name": "python3",
      "display_name": "Python 3"
    },
    "language_info": {
      "name": "python"
    }
  },
  "cells": [
    {
      "cell_type": "markdown",
      "metadata": {
        "id": "view-in-github",
        "colab_type": "text"
      },
      "source": [
        "<a href=\"https://colab.research.google.com/github/bharaniakella/Akellian_DSA/blob/main/maximum_sum_subarray.ipynb\" target=\"_parent\"><img src=\"https://colab.research.google.com/assets/colab-badge.svg\" alt=\"Open In Colab\"/></a>"
      ]
    },
    {
      "cell_type": "code",
      "execution_count": null,
      "metadata": {
        "id": "VKSEYhvzn6tp"
      },
      "outputs": [],
      "source": [
        "class Solution:\n",
        "    def maxSubArray(self, nums: List[int]) -> int:\n",
        "        check_negative=0\n",
        "        curr_sum=0\n",
        "        max_sum=nums[0]\n",
        "        for i in nums:\n",
        "            if(i<0):\n",
        "                check_negative=check_negative+1\n",
        "            curr_sum=curr_sum+i\n",
        "            if(curr_sum<0):\n",
        "                curr_sum=0\n",
        "            max_sum=max(max_sum,curr_sum)\n",
        "        if(check_negative==len(nums)):\n",
        "            return max(nums)\n",
        "        return max_sum\n",
        "\n",
        ""
      ]
    }
  ]
}