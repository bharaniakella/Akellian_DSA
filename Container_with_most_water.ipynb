{
  "nbformat": 4,
  "nbformat_minor": 0,
  "metadata": {
    "colab": {
      "provenance": [],
      "authorship_tag": "ABX9TyMWUsygTBy051Uuh1gc5HC1",
      "include_colab_link": true
    },
    "kernelspec": {
      "name": "python3",
      "display_name": "Python 3"
    },
    "language_info": {
      "name": "python"
    }
  },
  "cells": [
    {
      "cell_type": "markdown",
      "metadata": {
        "id": "view-in-github",
        "colab_type": "text"
      },
      "source": [
        "<a href=\"https://colab.research.google.com/github/bharaniakella/Akellian_DSA/blob/main/Container_with_most_water.ipynb\" target=\"_parent\"><img src=\"https://colab.research.google.com/assets/colab-badge.svg\" alt=\"Open In Colab\"/></a>"
      ]
    },
    {
      "cell_type": "code",
      "execution_count": null,
      "metadata": {
        "id": "BdiaAD0qN6eS"
      },
      "outputs": [],
      "source": [
        "class Solution(object):\n",
        "    def maxArea(self, height):\n",
        "        \"\"\"\n",
        "        :type height: List[int]\n",
        "        :rtype: int\n",
        "        \"\"\"\n",
        "        l=0\n",
        "        r=len(height)-1\n",
        "        area=0\n",
        "        max_area=0\n",
        "        while(l<r):\n",
        "            area=(r-l)*min(height[l],height[r])\n",
        "            max_area=max(area,max_area)\n",
        "            if(height[l]<=height[r]):\n",
        "                l=l+1\n",
        "            else:\n",
        "                r=r-1\n",
        "\n",
        "        return max_area\n",
        ""
      ]
    }
  ]
}