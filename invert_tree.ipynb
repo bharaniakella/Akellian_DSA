{
  "nbformat": 4,
  "nbformat_minor": 0,
  "metadata": {
    "colab": {
      "provenance": [],
      "authorship_tag": "ABX9TyPopRxG8y/xPsdAho0Ld56z",
      "include_colab_link": true
    },
    "kernelspec": {
      "name": "python3",
      "display_name": "Python 3"
    },
    "language_info": {
      "name": "python"
    }
  },
  "cells": [
    {
      "cell_type": "markdown",
      "metadata": {
        "id": "view-in-github",
        "colab_type": "text"
      },
      "source": [
        "<a href=\"https://colab.research.google.com/github/bharaniakella/Akellian_DSA/blob/main/invert_tree.ipynb\" target=\"_parent\"><img src=\"https://colab.research.google.com/assets/colab-badge.svg\" alt=\"Open In Colab\"/></a>"
      ]
    },
    {
      "cell_type": "code",
      "execution_count": null,
      "metadata": {
        "id": "MoxZ6F9VhfcT"
      },
      "outputs": [],
      "source": [
        "class Solution:\n",
        "    def invertTree(self, root: Optional[TreeNode]) -> Optional[TreeNode]:\n",
        "        if root is None:\n",
        "            return None\n",
        "\n",
        "        root.left,root.right=root.right,root.left\n",
        "        self.invertTree(root.left)\n",
        "        self.invertTree(root.right)\n",
        "\n",
        "        return root\n",
        "\n",
        "\n",
        ""
      ]
    }
  ]
}