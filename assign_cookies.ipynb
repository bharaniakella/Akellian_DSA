{
  "nbformat": 4,
  "nbformat_minor": 0,
  "metadata": {
    "colab": {
      "provenance": [],
      "authorship_tag": "ABX9TyMxUb00OUG25oUwtpJjNCeB",
      "include_colab_link": true
    },
    "kernelspec": {
      "name": "python3",
      "display_name": "Python 3"
    },
    "language_info": {
      "name": "python"
    }
  },
  "cells": [
    {
      "cell_type": "markdown",
      "metadata": {
        "id": "view-in-github",
        "colab_type": "text"
      },
      "source": [
        "<a href=\"https://colab.research.google.com/github/bharaniakella/Akellian_DSA/blob/main/assign_cookies.ipynb\" target=\"_parent\"><img src=\"https://colab.research.google.com/assets/colab-badge.svg\" alt=\"Open In Colab\"/></a>"
      ]
    },
    {
      "cell_type": "code",
      "execution_count": null,
      "metadata": {
        "id": "y28wPSZ0d9AV"
      },
      "outputs": [],
      "source": [
        "class Solution:\n",
        "    def findContentChildren(self, g: List[int], s: List[int]) -> int:\n",
        "        count = 0\n",
        "        s.sort()\n",
        "        g.sort()\n",
        "\n",
        "        g_index = 0\n",
        "        s_index = 0\n",
        "        while (g_index < len(g)) and (s_index < len(s)):\n",
        "            if s[s_index] >= g[g_index]:\n",
        "                count = count + 1\n",
        "                s_index = s_index + 1\n",
        "                g_index = g_index + 1\n",
        "            else:\n",
        "                s_index = s_index + 1\n",
        "        return count\n"
      ]
    }
  ]
}