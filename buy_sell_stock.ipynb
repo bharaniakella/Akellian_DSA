{
  "nbformat": 4,
  "nbformat_minor": 0,
  "metadata": {
    "colab": {
      "provenance": [],
      "authorship_tag": "ABX9TyPFJzwmt5rCSjVojO4oYQMr",
      "include_colab_link": true
    },
    "kernelspec": {
      "name": "python3",
      "display_name": "Python 3"
    },
    "language_info": {
      "name": "python"
    }
  },
  "cells": [
    {
      "cell_type": "markdown",
      "metadata": {
        "id": "view-in-github",
        "colab_type": "text"
      },
      "source": [
        "<a href=\"https://colab.research.google.com/github/bharaniakella/Akellian_DSA/blob/main/buy_sell_stock.ipynb\" target=\"_parent\"><img src=\"https://colab.research.google.com/assets/colab-badge.svg\" alt=\"Open In Colab\"/></a>"
      ]
    },
    {
      "cell_type": "code",
      "execution_count": null,
      "metadata": {
        "id": "RrT-komr-_5O"
      },
      "outputs": [],
      "source": [
        "class Solution:\n",
        "    def maxProfit(self, prices: List[int]) -> int:\n",
        "        l=0\n",
        "        r=1\n",
        "        profit=0\n",
        "        max_profit=0\n",
        "        while(r<len(prices)):\n",
        "            if(prices[l]>prices[r]):\n",
        "                l=r\n",
        "            else:\n",
        "                profit=prices[r]-prices[l]\n",
        "                max_profit=max(profit,max_profit)\n",
        "            r=r+1\n",
        "        return max_profit\n"
      ]
    }
  ]
}