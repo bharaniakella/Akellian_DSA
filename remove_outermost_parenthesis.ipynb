{
  "nbformat": 4,
  "nbformat_minor": 0,
  "metadata": {
    "colab": {
      "provenance": [],
      "authorship_tag": "ABX9TyNFN8ZROc8HTiW5WdUpXvfV",
      "include_colab_link": true
    },
    "kernelspec": {
      "name": "python3",
      "display_name": "Python 3"
    },
    "language_info": {
      "name": "python"
    }
  },
  "cells": [
    {
      "cell_type": "markdown",
      "metadata": {
        "id": "view-in-github",
        "colab_type": "text"
      },
      "source": [
        "<a href=\"https://colab.research.google.com/github/bharaniakella/Akellian_DSA/blob/main/remove_outermost_parenthesis.ipynb\" target=\"_parent\"><img src=\"https://colab.research.google.com/assets/colab-badge.svg\" alt=\"Open In Colab\"/></a>"
      ]
    },
    {
      "cell_type": "code",
      "execution_count": null,
      "metadata": {
        "id": "Z5tX4l-w-KBt"
      },
      "outputs": [],
      "source": [
        "class Solution:\n",
        "    def removeOuterParentheses(self, s: str) -> str:\n",
        "        count=0\n",
        "        new_s=\"\"\n",
        "        for i in s:\n",
        "            if i ==\"(\":\n",
        "                count=count+1\n",
        "                if count>1:\n",
        "                    new_s=new_s+\"(\"\n",
        "            else:\n",
        "                count=count-1\n",
        "                if count>0:\n",
        "                    new_s=new_s+\")\"\n",
        "\n",
        "        return new_s\n",
        "\n",
        ""
      ]
    }
  ]
}