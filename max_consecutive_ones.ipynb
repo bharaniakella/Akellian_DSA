{
  "nbformat": 4,
  "nbformat_minor": 0,
  "metadata": {
    "colab": {
      "provenance": [],
      "authorship_tag": "ABX9TyNA8+mjyHelWSIlvmjV+lB0",
      "include_colab_link": true
    },
    "kernelspec": {
      "name": "python3",
      "display_name": "Python 3"
    },
    "language_info": {
      "name": "python"
    }
  },
  "cells": [
    {
      "cell_type": "markdown",
      "metadata": {
        "id": "view-in-github",
        "colab_type": "text"
      },
      "source": [
        "<a href=\"https://colab.research.google.com/github/bharaniakella/Akellian_DSA/blob/main/max_consecutive_ones.ipynb\" target=\"_parent\"><img src=\"https://colab.research.google.com/assets/colab-badge.svg\" alt=\"Open In Colab\"/></a>"
      ]
    },
    {
      "cell_type": "code",
      "execution_count": null,
      "metadata": {
        "id": "ZSXfcOtXiClA"
      },
      "outputs": [],
      "source": [
        "class Solution:\n",
        "    def findMaxConsecutiveOnes(self, nums: List[int]) -> int:\n",
        "        ones=0\n",
        "        max_ones=0\n",
        "        for i in nums:\n",
        "            if i==1:\n",
        "                ones=ones+1\n",
        "                max_ones=max(max_ones,ones)\n",
        "            else:\n",
        "                ones=0\n",
        "\n",
        "        return max_ones\n",
        "\n",
        "\n",
        "\n",
        ""
      ]
    }
  ]
}